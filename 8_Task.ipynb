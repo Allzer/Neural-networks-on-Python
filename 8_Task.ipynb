{
  "nbformat": 4,
  "nbformat_minor": 0,
  "metadata": {
    "colab": {
      "provenance": [],
      "authorship_tag": "ABX9TyPeDuF8sy5H94SGur3vFiGa",
      "include_colab_link": true
    },
    "kernelspec": {
      "name": "python3",
      "display_name": "Python 3"
    },
    "language_info": {
      "name": "python"
    }
  },
  "cells": [
    {
      "cell_type": "markdown",
      "metadata": {
        "id": "view-in-github",
        "colab_type": "text"
      },
      "source": [
        "<a href=\"https://colab.research.google.com/github/Allzer/Neural-networks-on-Python/blob/main/8_Task.ipynb\" target=\"_parent\"><img src=\"https://colab.research.google.com/assets/colab-badge.svg\" alt=\"Open In Colab\"/></a>"
      ]
    },
    {
      "cell_type": "code",
      "execution_count": 39,
      "metadata": {
        "id": "i-Ee5pMi2EnU"
      },
      "outputs": [],
      "source": [
        "import numpy as np\n",
        "import matplotlib.pyplot as plt\n",
        "from tensorflow.keras.datasets import mnist\n",
        "from tensorflow import keras\n",
        "from tensorflow.keras.layers import Dense,Flatten, Dropout, BatchNormalization\n",
        "from sklearn.model_selection import train_test_split"
      ]
    },
    {
      "cell_type": "code",
      "source": [
        "#Просто загружаем данные\n",
        "(x_train, y_train), (x_test, y_test) = mnist.load_data()\n",
        "x_train = x_train/255 #Т.к изображение ЧБ, то после такого преобразование белый - 1, чёрный - 0\n",
        "x_test = x_test/255\n",
        "\n",
        "y_train_cat = keras.utils.to_categorical(y_train, 10) #Преобразовали данные в векторы. Там, где нужная цифра по счёту, будет стоять 1\n",
        "y_test_cat = keras.utils.to_categorical(y_test, 10)"
      ],
      "metadata": {
        "id": "zAOeUPjxEjON"
      },
      "execution_count": 40,
      "outputs": []
    },
    {
      "cell_type": "markdown",
      "source": [
        "Проверяем DropOut"
      ],
      "metadata": {
        "id": "SNj2eBXzRTpy"
      }
    },
    {
      "cell_type": "code",
      "source": [
        "#Разделяем данные так, чтобы было переобучение\n",
        "limit = 5000\n",
        "x_train_data = x_train[:limit]\n",
        "y_train_data = y_train_cat[:limit]\n",
        "\n",
        "x_valid = x_train[limit:limit*2]\n",
        "y_valid = y_train_cat[limit:limit*2]"
      ],
      "metadata": {
        "id": "-Ow5SSDzRTOg"
      },
      "execution_count": 41,
      "outputs": []
    },
    {
      "cell_type": "code",
      "source": [
        "model = keras.Sequential([Flatten(input_shape=(28,28,1)),\n",
        "                          Dense(200,activation='relu'),\n",
        "                          BatchNormalization(),\n",
        "                          Dense(10,activation=\"softmax\")])\n",
        "#Слой Flatten нужен для сглаживания входного тензора, сохраняя при этом ось пакета (ось 0).\n",
        "#Это означает, что он преобразует входной тензор из многомерного тензора в одномерный тензор\n",
        "#print(model.summary())\n",
        "model.compile(optimizer='adam', loss='categorical_crossentropy', metrics=['accuracy'])"
      ],
      "metadata": {
        "id": "zpylZ7hSonh1"
      },
      "execution_count": 42,
      "outputs": []
    },
    {
      "cell_type": "code",
      "source": [
        "his = model.fit(x_train, y_train_cat, batch_size=30, epochs=7, validation_split=0.2)\n",
        "#Строим графики валидации и лоса\n",
        "plt.plot(his.history['loss'])\n",
        "plt.plot(his.history['val_loss'])\n",
        "plt.show()\n",
        "#Как видно из графиков, эффект переобучения снижен"
      ],
      "metadata": {
        "colab": {
          "base_uri": "https://localhost:8080/",
          "height": 673
        },
        "id": "DPfISy81rY_a",
        "outputId": "951cae47-05d2-42bf-da05-1f51b256e253"
      },
      "execution_count": 43,
      "outputs": [
        {
          "output_type": "stream",
          "name": "stdout",
          "text": [
            "Epoch 1/7\n",
            "1600/1600 [==============================] - 7s 3ms/step - loss: 0.2369 - accuracy: 0.9301 - val_loss: 0.1367 - val_accuracy: 0.9592\n",
            "Epoch 2/7\n",
            "1600/1600 [==============================] - 4s 3ms/step - loss: 0.1179 - accuracy: 0.9649 - val_loss: 0.1055 - val_accuracy: 0.9683\n",
            "Epoch 3/7\n",
            "1600/1600 [==============================] - 5s 3ms/step - loss: 0.0876 - accuracy: 0.9729 - val_loss: 0.1034 - val_accuracy: 0.9700\n",
            "Epoch 4/7\n",
            "1600/1600 [==============================] - 4s 3ms/step - loss: 0.0747 - accuracy: 0.9766 - val_loss: 0.0999 - val_accuracy: 0.9709\n",
            "Epoch 5/7\n",
            "1600/1600 [==============================] - 5s 3ms/step - loss: 0.0590 - accuracy: 0.9810 - val_loss: 0.1046 - val_accuracy: 0.9698\n",
            "Epoch 6/7\n",
            "1600/1600 [==============================] - 4s 2ms/step - loss: 0.0517 - accuracy: 0.9830 - val_loss: 0.0962 - val_accuracy: 0.9725\n",
            "Epoch 7/7\n",
            "1600/1600 [==============================] - 4s 2ms/step - loss: 0.0450 - accuracy: 0.9852 - val_loss: 0.0981 - val_accuracy: 0.9748\n"
          ]
        },
        {
          "output_type": "display_data",
          "data": {
            "text/plain": [
              "<Figure size 640x480 with 1 Axes>"
            ],
            "image/png": "[encoded data removed]"
          },
          "metadata": {}
        }
      ]
    },
    {
      "cell_type": "code",
      "source": [
        "model.evaluate(x_test,y_test_cat)"
      ],
      "metadata": {
        "colab": {
          "base_uri": "https://localhost:8080/"
        },
        "id": "MLyXCsNVsIdH",
        "outputId": "378bb013-3f45-4634-c891-9e86d8ab6013"
      },
      "execution_count": 36,
      "outputs": [
        {
          "output_type": "stream",
          "name": "stdout",
          "text": [
            "313/313 [==============================] - 0s 1ms/step - loss: 0.0657 - accuracy: 0.9792\n"
          ]
        },
        {
          "output_type": "execute_result",
          "data": {
            "text/plain": [
              "[0.06569961458444595, 0.979200005531311]"
            ]
          },
          "metadata": {},
          "execution_count": 36
        }
      ]
    },
    {
      "cell_type": "code",
      "source": [
        "n = 0\n",
        "x = np.expand_dims(x_test[n],axis=0) #Создаём 3-мерный тензор\n",
        "res = model.predict(x)\n",
        "print(res)\n",
        "print(f'Распознанная цифра: {np.argmax(res)}') #Выбирает наибольший  индекс\n",
        "\n",
        "plt.imshow(x_test[n], cmap=plt.cm.binary)\n",
        "plt.show"
      ],
      "metadata": {
        "id": "9xqfuOogsSjY"
      },
      "execution_count": null,
      "outputs": []
    },
    {
      "cell_type": "code",
      "source": [
        "pred = model.predict(x_test)\n",
        "pred = np.argmax(pred, axis=1)\n",
        "\n",
        "print(pred.shape)\n",
        "\n",
        "print(pred[0:20])\n",
        "print(y_test[:20])\n",
        "\n",
        "mask = pred == y_test\n",
        "print(mask[:10])\n",
        "\n",
        "x_false = x_test[~mask]\n",
        "p_false = pred[~mask]\n",
        "\n",
        "print(x_false.shape)"
      ],
      "metadata": {
        "id": "ec5j8441tXcf"
      },
      "execution_count": null,
      "outputs": []
    },
    {
      "cell_type": "markdown",
      "source": [
        "Вывод 5 первых неваерных результатов"
      ],
      "metadata": {
        "id": "NN_GDBE9ukPg"
      }
    },
    {
      "cell_type": "code",
      "source": [
        "for i in range(5):\n",
        "  print(\"Значение сети: \"+str(p_false[i]))\n",
        "  plt.imshow(x_false[i], cmap=plt.cm.binary)\n",
        "  plt.show()"
      ],
      "metadata": {
        "id": "QyHlyEUfunU4"
      },
      "execution_count": null,
      "outputs": []
    }
  ]
}