{
  "nbformat": 4,
  "nbformat_minor": 0,
  "metadata": {
    "colab": {
      "provenance": [],
      "authorship_tag": "ABX9TyOQ5YgLQu4Qy21DImplnMU5",
      "include_colab_link": true
    },
    "kernelspec": {
      "name": "python3",
      "display_name": "Python 3"
    },
    "language_info": {
      "name": "python"
    }
  },
  "cells": [
    {
      "cell_type": "markdown",
      "metadata": {
        "id": "view-in-github",
        "colab_type": "text"
      },
      "source": [
        "<a href=\"https://colab.research.google.com/github/Allzer/Neural-networks-on-Python/blob/main/9_Task.ipynb\" target=\"_parent\"><img src=\"https://colab.research.google.com/assets/colab-badge.svg\" alt=\"Open In Colab\"/></a>"
      ]
    },
    {
      "cell_type": "code",
      "execution_count": 52,
      "metadata": {
        "id": "i-Ee5pMi2EnU"
      },
      "outputs": [],
      "source": [
        "import numpy as np\n",
        "import matplotlib.pyplot as plt\n",
        "from tensorflow.keras.datasets import mnist\n",
        "from tensorflow import keras\n",
        "from tensorflow.keras.layers import Dense,Flatten, Dropout, BatchNormalization, Conv2D, MaxPooling2D\n",
        "from sklearn.model_selection import train_test_split"
      ]
    },
    {
      "cell_type": "code",
      "source": [
        "#Просто загружаем данные\n",
        "(x_train, y_train), (x_test, y_test) = mnist.load_data()\n",
        "\n",
        "x_train = x_train/255 #Т.к изображение ЧБ, то после такого преобразование белый - 1, чёрный - 0\n",
        "x_test = x_test/255\n",
        "\n",
        "y_train_cat = keras.utils.to_categorical(y_train, 10) #Преобразовали данные в векторы. Там, где нужная цифра по счёту, будет стоять 1\n",
        "y_test_cat = keras.utils.to_categorical(y_test, 10)\n",
        "\n",
        "x_train = np.expand_dims(x_train, axis=3) #Добавляем 3 ось, чтобы данные соответстствовали формату data_format\n",
        "x_test = np.expand_dims(x_test, axis=3)"
      ],
      "metadata": {
        "id": "UgjYRD9Kj3Bg"
      },
      "execution_count": 57,
      "outputs": []
    },
    {
      "cell_type": "code",
      "source": [
        "model = keras.Sequential([\n",
        "    Conv2D(32,(3,3), padding='same', activation='relu',input_shape=(28,28,1)),\n",
        "    MaxPooling2D((2,2), strides=2),\n",
        "\n",
        "    Conv2D(64,(3,3), padding='same', activation='relu'),\n",
        "    MaxPooling2D((2,2), strides=2),\n",
        "\n",
        "    Flatten(),\n",
        "    Dense(137, activation='relu'),\n",
        "    Dropout(0.2),\n",
        "    Dense(10, activation='softmax')\n",
        "    ])\n",
        "#Слой Flatten нужен для сглаживания входного тензора, сохраняя при этом ось пакета (ось 0).\n",
        "#Это означает, что он преобразует входной тензор из многомерного тензора в одномерный тензор\n",
        "#print(model.summary())"
      ],
      "metadata": {
        "id": "G8bSAXC6kUpX"
      },
      "execution_count": 63,
      "outputs": []
    },
    {
      "cell_type": "code",
      "source": [
        "model.compile(optimizer='adam',\n",
        "              loss='categorical_crossentropy',\n",
        "              metrics=['accuracy'])\n",
        "\n",
        "print(x_train.shape)\n",
        "\n",
        "his = model.fit(x_train, y_train_cat, batch_size=32, epochs=7, validation_split=0.2)\n",
        "#Строим графики валидации и лоса\n",
        "\n",
        "plt.plot(his.history['loss'])\n",
        "plt.plot(his.history['val_loss'])\n",
        "plt.show()\n"
      ],
      "metadata": {
        "colab": {
          "base_uri": "https://localhost:8080/",
          "height": 708
        },
        "id": "cOlMRPt4m54v",
        "outputId": "bed0caf7-e8d5-4249-8226-5165f373c7b0"
      },
      "execution_count": 64,
      "outputs": [
        {
          "output_type": "stream",
          "name": "stdout",
          "text": [
            "(60000, 28, 28, 1)\n",
            "Epoch 1/7\n",
            "1500/1500 [==============================] - 38s 25ms/step - loss: 0.1668 - accuracy: 0.9475 - val_loss: 0.0540 - val_accuracy: 0.9847\n",
            "Epoch 2/7\n",
            "1500/1500 [==============================] - 39s 26ms/step - loss: 0.0543 - accuracy: 0.9829 - val_loss: 0.0412 - val_accuracy: 0.9862\n",
            "Epoch 3/7\n",
            "1500/1500 [==============================] - 37s 24ms/step - loss: 0.0401 - accuracy: 0.9876 - val_loss: 0.0359 - val_accuracy: 0.9892\n",
            "Epoch 4/7\n",
            "1500/1500 [==============================] - 37s 24ms/step - loss: 0.0279 - accuracy: 0.9909 - val_loss: 0.0378 - val_accuracy: 0.9876\n",
            "Epoch 5/7\n",
            "1500/1500 [==============================] - 37s 25ms/step - loss: 0.0214 - accuracy: 0.9931 - val_loss: 0.0355 - val_accuracy: 0.9902\n",
            "Epoch 6/7\n",
            "1500/1500 [==============================] - 37s 25ms/step - loss: 0.0179 - accuracy: 0.9944 - val_loss: 0.0343 - val_accuracy: 0.9911\n",
            "Epoch 7/7\n",
            "1500/1500 [==============================] - 36s 24ms/step - loss: 0.0155 - accuracy: 0.9947 - val_loss: 0.0415 - val_accuracy: 0.9903\n",
            "313/313 [==============================] - 2s 7ms/step - loss: 0.0354 - accuracy: 0.9905\n"
          ]
        },
        {
          "output_type": "display_data",
          "data": {
            "text/plain": [
              "<Figure size 640x480 with 1 Axes>"
            ],
            "image/png": "[encoded data removed]"
          },
          "metadata": {}
        }
      ]
    },
    {
      "cell_type": "code",
      "source": [
        "model.evaluate(x_test,y_test_cat)"
      ],
      "metadata": {
        "colab": {
          "base_uri": "https://localhost:8080/"
        },
        "id": "gZ0ci__Krpux",
        "outputId": "5826bfdc-386f-438a-d6fd-2f6e4ab285f6"
      },
      "execution_count": 65,
      "outputs": [
        {
          "output_type": "stream",
          "name": "stdout",
          "text": [
            "313/313 [==============================] - 2s 8ms/step - loss: 0.0354 - accuracy: 0.9905\n"
          ]
        },
        {
          "output_type": "execute_result",
          "data": {
            "text/plain": [
              "[0.03537825495004654, 0.9904999732971191]"
            ]
          },
          "metadata": {},
          "execution_count": 65
        }
      ]
    }
  ]
}