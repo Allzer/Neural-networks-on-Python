{
  "nbformat": 4,
  "nbformat_minor": 0,
  "metadata": {
    "colab": {
      "provenance": [],
      "authorship_tag": "ABX9TyMtTyjDfzhwD9lN4aHYaPYI",
      "include_colab_link": true
    },
    "kernelspec": {
      "name": "python3",
      "display_name": "Python 3"
    },
    "language_info": {
      "name": "python"
    }
  },
  "cells": [
    {
      "cell_type": "markdown",
      "metadata": {
        "id": "view-in-github",
        "colab_type": "text"
      },
      "source": [
        "<a href=\"https://colab.research.google.com/github/Allzer/Neural-networks-on-Python/blob/main/10_Task.ipynb\" target=\"_parent\"><img src=\"https://colab.research.google.com/assets/colab-badge.svg\" alt=\"Open In Colab\"/></a>"
      ]
    },
    {
      "cell_type": "code",
      "execution_count": 1,
      "metadata": {
        "id": "i-Ee5pMi2EnU"
      },
      "outputs": [],
      "source": [
        "import os\n",
        "os.environ['TF_CPP_MIN_LOG_LEVEL'] = '2'\n",
        "\n",
        "import numpy as np\n",
        "import re\n",
        "\n",
        "from tensorflow.keras.utils import to_categorical\n",
        "from tensorflow.keras.layers import Dense, SimpleRNN, Input, Dropout, Embedding\n",
        "from tensorflow.keras.models import Sequential\n",
        "from tensorflow.keras.optimizers import Adam\n",
        "from tensorflow.keras.preprocessing.text import Tokenizer, text_to_word_sequence"
      ]
    },
    {
      "cell_type": "code",
      "source": [
        "with open('Пасты_2.txt', 'r', encoding='utf-8') as f:\n",
        "  text = f.read()"
      ],
      "metadata": {
        "id": "zh1qEj26I2e9"
      },
      "execution_count": 22,
      "outputs": []
    },
    {
      "cell_type": "markdown",
      "source": [
        "Пропускаем текст через токенайзер с задаными параметрами редактивроания текста"
      ],
      "metadata": {
        "id": "74zb7VwU3fi7"
      }
    },
    {
      "cell_type": "markdown",
      "source": [
        "Смотрим сколько раз встречается каждое слово"
      ],
      "metadata": {
        "id": "pykzaDCa3sHb"
      }
    },
    {
      "cell_type": "code",
      "source": [
        "maxWordsCount = 3875\n",
        "tokenizer = Tokenizer(num_words=maxWordsCount, filters='!–\"—#$%&amp;()*+,-./:;<=>?@[\\\\]^_`{|}~\\t\\n\\r«»',\n",
        "                      lower=True, split=' ', char_level=False)\n",
        "tokenizer.fit_on_texts([text])\n",
        "dist = list(tokenizer.word_counts.items())\n",
        "print(dist[:10])\n",
        "\n",
        "data = tokenizer.texts_to_sequences([text]) #преоразуем текст в последовательность чисел в соответствии с полученным словарём (берём каждое слово в нашем тексте и вместо него ставим число, которое ему соответствует)\n",
        "#res = to_categorical(data[0], num_classes=maxWordsCount)\n",
        "#print(res.shape)\n",
        "\n",
        "res = np.array(data[0])\n",
        "\n",
        "inp_words = 3\n",
        "n = res.shape[0] - inp_words\n",
        "\n",
        "x = np.array([res[i:i + inp_words] for i in range(n)])\n",
        "y = to_categorical(res[inp_words:], num_classes=maxWordsCount)"
      ],
      "metadata": {
        "colab": {
          "base_uri": "https://localhost:8080/"
        },
        "id": "z8QzKBmJeVyW",
        "outputId": "bdf02872-effd-4853-b0a5-f65b7909cbdb"
      },
      "execution_count": 23,
      "outputs": [
        {
          "output_type": "stream",
          "name": "stdout",
          "text": [
            "[('мы', 284), ('с', 744), ('пацанами', 6), ('живем', 1), ('в', 1923), ('славном', 1), ('городе', 3), ('якутск', 1), ('это', 408), ('такое', 31)]\n"
          ]
        }
      ]
    },
    {
      "cell_type": "code",
      "source": [
        "model = Sequential()\n",
        "\n",
        "model.add(Embedding(maxWordsCount, 256, input_length = inp_words))\n",
        "model.add(SimpleRNN(300, activation='tanh'))\n",
        "model.add(Dense(maxWordsCount, activation='softmax'))\n",
        "\n",
        "model.compile(loss='categorical_crossentropy', metrics=['accuracy'], optimizer='adam')"
      ],
      "metadata": {
        "id": "47PWOjffhCVq"
      },
      "execution_count": 34,
      "outputs": []
    },
    {
      "cell_type": "code",
      "source": [
        "history = model.fit(x,y, batch_size=32, epochs=50)"
      ],
      "metadata": {
        "colab": {
          "base_uri": "https://localhost:8080/"
        },
        "id": "xJRnxsyijCUC",
        "outputId": "9ffd201a-cf84-4363-90e7-61bd5d1bac55"
      },
      "execution_count": 35,
      "outputs": [
        {
          "output_type": "stream",
          "name": "stdout",
          "text": [
            "Epoch 1/50\n",
            "1651/1651 [==============================] - 65s 39ms/step - loss: 6.7315 - accuracy: 0.0574\n",
            "Epoch 2/50\n",
            "1651/1651 [==============================] - 66s 40ms/step - loss: 5.9794 - accuracy: 0.0979\n",
            "Epoch 3/50\n",
            "1651/1651 [==============================] - 66s 40ms/step - loss: 4.9358 - accuracy: 0.1664\n",
            "Epoch 4/50\n",
            "1651/1651 [==============================] - 64s 39ms/step - loss: 3.8548 - accuracy: 0.2647\n",
            "Epoch 5/50\n",
            "1651/1651 [==============================] - 65s 39ms/step - loss: 2.9968 - accuracy: 0.3836\n",
            "Epoch 6/50\n",
            "1651/1651 [==============================] - 64s 39ms/step - loss: 2.3642 - accuracy: 0.4889\n",
            "Epoch 7/50\n",
            "1651/1651 [==============================] - 65s 39ms/step - loss: 1.9000 - accuracy: 0.5783\n",
            "Epoch 8/50\n",
            "1651/1651 [==============================] - 64s 39ms/step - loss: 1.5625 - accuracy: 0.6484\n",
            "Epoch 9/50\n",
            "1651/1651 [==============================] - 64s 39ms/step - loss: 1.3090 - accuracy: 0.7040\n",
            "Epoch 10/50\n",
            "1651/1651 [==============================] - 60s 36ms/step - loss: 1.1145 - accuracy: 0.7457\n",
            "Epoch 11/50\n",
            "1651/1651 [==============================] - 61s 37ms/step - loss: 0.9700 - accuracy: 0.7801\n",
            "Epoch 12/50\n",
            "1651/1651 [==============================] - 60s 36ms/step - loss: 0.8509 - accuracy: 0.8102\n",
            "Epoch 13/50\n",
            "1651/1651 [==============================] - 60s 36ms/step - loss: 0.7696 - accuracy: 0.8300\n",
            "Epoch 14/50\n",
            "1651/1651 [==============================] - 62s 37ms/step - loss: 0.6952 - accuracy: 0.8498\n",
            "Epoch 15/50\n",
            "1651/1651 [==============================] - 61s 37ms/step - loss: 0.6446 - accuracy: 0.8602\n",
            "Epoch 16/50\n",
            "1651/1651 [==============================] - 64s 39ms/step - loss: 0.6112 - accuracy: 0.8705\n",
            "Epoch 17/50\n",
            "1651/1651 [==============================] - 66s 40ms/step - loss: 0.5659 - accuracy: 0.8810\n",
            "Epoch 18/50\n",
            "1651/1651 [==============================] - 60s 37ms/step - loss: 0.5446 - accuracy: 0.8878\n",
            "Epoch 19/50\n",
            "1651/1651 [==============================] - 62s 37ms/step - loss: 0.5205 - accuracy: 0.8930\n",
            "Epoch 20/50\n",
            "1651/1651 [==============================] - 64s 39ms/step - loss: 0.5072 - accuracy: 0.8972\n",
            "Epoch 21/50\n",
            "1651/1651 [==============================] - 65s 40ms/step - loss: 0.4909 - accuracy: 0.9019\n",
            "Epoch 22/50\n",
            "1651/1651 [==============================] - 64s 39ms/step - loss: 0.4823 - accuracy: 0.9037\n",
            "Epoch 23/50\n",
            "1651/1651 [==============================] - 65s 39ms/step - loss: 0.4699 - accuracy: 0.9079\n",
            "Epoch 24/50\n",
            "1651/1651 [==============================] - 65s 40ms/step - loss: 0.4711 - accuracy: 0.9074\n",
            "Epoch 25/50\n",
            "1651/1651 [==============================] - 64s 39ms/step - loss: 0.4579 - accuracy: 0.9113\n",
            "Epoch 26/50\n",
            "1651/1651 [==============================] - 66s 40ms/step - loss: 0.4519 - accuracy: 0.9121\n",
            "Epoch 27/50\n",
            "1651/1651 [==============================] - 65s 40ms/step - loss: 0.4443 - accuracy: 0.9147\n",
            "Epoch 28/50\n",
            "1651/1651 [==============================] - 64s 39ms/step - loss: 0.4361 - accuracy: 0.9159\n",
            "Epoch 29/50\n",
            "1651/1651 [==============================] - 66s 40ms/step - loss: 0.4367 - accuracy: 0.9149\n",
            "Epoch 30/50\n",
            "1651/1651 [==============================] - 65s 39ms/step - loss: 0.4288 - accuracy: 0.9168\n",
            "Epoch 31/50\n",
            "1651/1651 [==============================] - 66s 40ms/step - loss: 0.4315 - accuracy: 0.9180\n",
            "Epoch 32/50\n",
            "1651/1651 [==============================] - 66s 40ms/step - loss: 0.4286 - accuracy: 0.9168\n",
            "Epoch 33/50\n",
            "1651/1651 [==============================] - 64s 39ms/step - loss: 0.4201 - accuracy: 0.9194\n",
            "Epoch 34/50\n",
            "1651/1651 [==============================] - 67s 40ms/step - loss: 0.4231 - accuracy: 0.9187\n",
            "Epoch 35/50\n",
            "1651/1651 [==============================] - 66s 40ms/step - loss: 0.4136 - accuracy: 0.9209\n",
            "Epoch 36/50\n",
            "1651/1651 [==============================] - 65s 39ms/step - loss: 0.4186 - accuracy: 0.9204\n",
            "Epoch 37/50\n",
            "1651/1651 [==============================] - 67s 41ms/step - loss: 0.4111 - accuracy: 0.9211\n",
            "Epoch 38/50\n",
            "1651/1651 [==============================] - 67s 41ms/step - loss: 0.4131 - accuracy: 0.9212\n",
            "Epoch 39/50\n",
            "1651/1651 [==============================] - 65s 39ms/step - loss: 0.4040 - accuracy: 0.9216\n",
            "Epoch 40/50\n",
            "1651/1651 [==============================] - 67s 40ms/step - loss: 0.4043 - accuracy: 0.9222\n",
            "Epoch 41/50\n",
            "1651/1651 [==============================] - 67s 40ms/step - loss: 0.4038 - accuracy: 0.9223\n",
            "Epoch 42/50\n",
            "1651/1651 [==============================] - 65s 39ms/step - loss: 0.4036 - accuracy: 0.9223\n",
            "Epoch 43/50\n",
            "1651/1651 [==============================] - 66s 40ms/step - loss: 0.4040 - accuracy: 0.9222\n",
            "Epoch 44/50\n",
            "1651/1651 [==============================] - 67s 41ms/step - loss: 0.4055 - accuracy: 0.9209\n",
            "Epoch 45/50\n",
            "1651/1651 [==============================] - 65s 40ms/step - loss: 0.3973 - accuracy: 0.9238\n",
            "Epoch 46/50\n",
            "1651/1651 [==============================] - 67s 40ms/step - loss: 0.4002 - accuracy: 0.9237\n",
            "Epoch 47/50\n",
            "1651/1651 [==============================] - 66s 40ms/step - loss: 0.3975 - accuracy: 0.9225\n",
            "Epoch 48/50\n",
            "1651/1651 [==============================] - 65s 39ms/step - loss: 0.3918 - accuracy: 0.9245\n",
            "Epoch 49/50\n",
            "1651/1651 [==============================] - 66s 40ms/step - loss: 0.3965 - accuracy: 0.9246\n",
            "Epoch 50/50\n",
            "1651/1651 [==============================] - 66s 40ms/step - loss: 0.3991 - accuracy: 0.9226\n"
          ]
        }
      ]
    },
    {
      "cell_type": "code",
      "source": [
        "def buildPhrase(texts, str_len=30):\n",
        "    res = texts\n",
        "    data = tokenizer.texts_to_sequences([texts])[0]\n",
        "    for i in range(str_len):\n",
        "        #x = to_categorical(data[i: i + inp_words], num_classes=maxWordsCount)  # преобразуем в One-Hot-encoding\n",
        "        #inp = x.reshape(1, inp_words, maxWordsCount)\n",
        "\n",
        "        x = data[i: i + inp_words]\n",
        "        inp = np.expand_dims(x, axis=0)\n",
        "\n",
        "        pred = model.predict(inp)\n",
        "        indx = pred.argmax(axis=1)[0]\n",
        "        data.append(indx)\n",
        "\n",
        "        res += \" \" + tokenizer.index_word[indx]  # дописываем строку\n",
        "\n",
        "    return res"
      ],
      "metadata": {
        "id": "14wUlBNajNjT"
      },
      "execution_count": 46,
      "outputs": []
    },
    {
      "cell_type": "code",
      "source": [
        "res = buildPhrase(\"был дома и снимал порно\")\n",
        "print(res)"
      ],
      "metadata": {
        "colab": {
          "base_uri": "https://localhost:8080/"
        },
        "id": "U2RZ5IW4kg7U",
        "outputId": "04267532-c9bf-4e86-fd9e-e4546ae4b269"
      },
      "execution_count": 48,
      "outputs": [
        {
          "output_type": "stream",
          "name": "stdout",
          "text": [
            "1/1 [==============================] - 0s 32ms/step\n",
            "1/1 [==============================] - 0s 31ms/step\n",
            "1/1 [==============================] - 0s 37ms/step\n",
            "1/1 [==============================] - 0s 31ms/step\n",
            "1/1 [==============================] - 0s 34ms/step\n",
            "1/1 [==============================] - 0s 31ms/step\n",
            "1/1 [==============================] - 0s 31ms/step\n",
            "1/1 [==============================] - 0s 32ms/step\n",
            "1/1 [==============================] - 0s 35ms/step\n",
            "1/1 [==============================] - 0s 41ms/step\n",
            "1/1 [==============================] - 0s 36ms/step\n",
            "1/1 [==============================] - 0s 33ms/step\n",
            "1/1 [==============================] - 0s 32ms/step\n",
            "1/1 [==============================] - 0s 30ms/step\n",
            "1/1 [==============================] - 0s 35ms/step\n",
            "1/1 [==============================] - 0s 22ms/step\n",
            "1/1 [==============================] - 0s 22ms/step\n",
            "1/1 [==============================] - 0s 21ms/step\n",
            "1/1 [==============================] - 0s 22ms/step\n",
            "1/1 [==============================] - 0s 24ms/step\n",
            "1/1 [==============================] - 0s 22ms/step\n",
            "1/1 [==============================] - 0s 22ms/step\n",
            "1/1 [==============================] - 0s 23ms/step\n",
            "1/1 [==============================] - 0s 21ms/step\n",
            "1/1 [==============================] - 0s 22ms/step\n",
            "1/1 [==============================] - 0s 21ms/step\n",
            "1/1 [==============================] - 0s 21ms/step\n",
            "1/1 [==============================] - 0s 20ms/step\n",
            "1/1 [==============================] - 0s 22ms/step\n",
            "1/1 [==============================] - 0s 21ms/step\n",
            "был дома и снимал порно этим и вдруг я почувствовал какое то урчание в животе моего кишечника я ощутил чего то мерзкого в своем кишечнике и тут струя поноса что есть силы сжал очко и\n"
          ]
        }
      ]
    }
  ]
}