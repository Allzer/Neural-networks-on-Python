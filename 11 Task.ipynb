{
  "nbformat": 4,
  "nbformat_minor": 0,
  "metadata": {
    "colab": {
      "provenance": [],
      "authorship_tag": "ABX9TyOY7MdkZAw/lcmIexZJphmc",
      "include_colab_link": true
    },
    "kernelspec": {
      "name": "python3",
      "display_name": "Python 3"
    },
    "language_info": {
      "name": "python"
    }
  },
  "cells": [
    {
      "cell_type": "markdown",
      "metadata": {
        "id": "view-in-github",
        "colab_type": "text"
      },
      "source": [
        "<a href=\"https://colab.research.google.com/github/Allzer/Neural-networks-on-Python/blob/main/11%20Task.ipynb\" target=\"_parent\"><img src=\"https://colab.research.google.com/assets/colab-badge.svg\" alt=\"Open In Colab\"/></a>"
      ]
    },
    {
      "cell_type": "code",
      "execution_count": 1,
      "metadata": {
        "id": "i-Ee5pMi2EnU"
      },
      "outputs": [],
      "source": [
        "import os\n",
        "os.environ['TF_CPP_MIN_LOG_LEVEL'] = '2'\n",
        "\n",
        "import numpy as np\n",
        "import re\n",
        "\n",
        "from tensorflow.keras.utils import to_categorical\n",
        "from tensorflow.keras.layers import Dense, SimpleRNN, Input, Dropout, Embedding\n",
        "from tensorflow.keras.models import Sequential\n",
        "from tensorflow.keras.optimizers import Adam\n",
        "from tensorflow.keras.preprocessing.text import Tokenizer, text_to_word_sequence"
      ]
    },
    {
      "cell_type": "code",
      "source": [
        "with open('Пасты_2.txt', 'r', encoding='utf-8') as f:\n",
        "  text = f.read()"
      ],
      "metadata": {
        "id": "zh1qEj26I2e9"
      },
      "execution_count": 2,
      "outputs": []
    },
    {
      "cell_type": "markdown",
      "source": [
        "Пропускаем текст через токенайзер с задаными параметрами редактивроания текста"
      ],
      "metadata": {
        "id": "74zb7VwU3fi7"
      }
    },
    {
      "cell_type": "markdown",
      "source": [
        "Смотрим сколько раз встречается каждое слово"
      ],
      "metadata": {
        "id": "pykzaDCa3sHb"
      }
    },
    {
      "cell_type": "code",
      "source": [
        "maxWordsCount = 3875\n",
        "tokenizer = Tokenizer(num_words=maxWordsCount, filters='!–\"—#$%&amp;()*+,-./:;<=>?@[\\\\]^_`{|}~\\t\\n\\r«»',\n",
        "                      lower=True, split=' ', char_level=False)\n",
        "tokenizer.fit_on_texts([text])\n",
        "dist = list(tokenizer.word_counts.items())\n",
        "print(dist[:10])\n",
        "\n",
        "data = tokenizer.texts_to_sequences([text]) #преоразуем текст в последовательность чисел в соответствии с полученным словарём (берём каждое слово в нашем тексте и вместо него ставим число, которое ему соответствует)\n",
        "#res = to_categorical(data[0], num_classes=maxWordsCount)\n",
        "#print(res.shape)\n",
        "\n",
        "res = np.array(data[0])\n",
        "\n",
        "inp_words = 3\n",
        "n = res.shape[0] - inp_words\n",
        "\n",
        "x = np.array([res[i:i + inp_words] for i in range(n)])\n",
        "y = to_categorical(res[inp_words:], num_classes=maxWordsCount)"
      ],
      "metadata": {
        "colab": {
          "base_uri": "https://localhost:8080/"
        },
        "id": "z8QzKBmJeVyW",
        "outputId": "4c6e4dd1-4dbb-425e-cf62-5258592909de"
      },
      "execution_count": 3,
      "outputs": [
        {
          "output_type": "stream",
          "name": "stdout",
          "text": [
            "[('мы', 284), ('с', 744), ('пацанами', 6), ('живем', 1), ('в', 1923), ('славном', 1), ('городе', 3), ('якутск', 1), ('это', 408), ('такое', 31)]\n"
          ]
        }
      ]
    },
    {
      "cell_type": "code",
      "source": [
        "model = Sequential()\n",
        "\n",
        "model.add(Embedding(maxWordsCount, 200, input_length = inp_words))\n",
        "model.add(SimpleRNN(200, activation='tanh', return_sequences=True))\n",
        "model.add(SimpleRNN(100, activation='tanh'))\n",
        "model.add(Dense(maxWordsCount, activation='softmax'))\n",
        "\n",
        "model.compile(loss='categorical_crossentropy', metrics=['accuracy'], optimizer='adam')"
      ],
      "metadata": {
        "id": "47PWOjffhCVq"
      },
      "execution_count": 15,
      "outputs": []
    },
    {
      "cell_type": "code",
      "source": [
        "history = model.fit(x,y, batch_size=32, epochs=50)"
      ],
      "metadata": {
        "colab": {
          "base_uri": "https://localhost:8080/"
        },
        "id": "xJRnxsyijCUC",
        "outputId": "d3a50afe-b05b-44f9-d6c3-595deb98b75c"
      },
      "execution_count": 16,
      "outputs": [
        {
          "output_type": "stream",
          "name": "stdout",
          "text": [
            "Epoch 1/50\n",
            "1651/1651 [==============================] - 48s 28ms/step - loss: 6.8716 - accuracy: 0.0469\n",
            "Epoch 2/50\n",
            "1651/1651 [==============================] - 42s 26ms/step - loss: 6.7295 - accuracy: 0.0469\n",
            "Epoch 3/50\n",
            "1651/1651 [==============================] - 42s 26ms/step - loss: 6.6871 - accuracy: 0.0462\n",
            "Epoch 4/50\n",
            "1651/1651 [==============================] - 42s 25ms/step - loss: 6.5788 - accuracy: 0.0503\n",
            "Epoch 5/50\n",
            "1651/1651 [==============================] - 42s 26ms/step - loss: 6.4519 - accuracy: 0.0536\n",
            "Epoch 6/50\n",
            "1651/1651 [==============================] - 42s 25ms/step - loss: 6.3081 - accuracy: 0.0566\n",
            "Epoch 7/50\n",
            "1651/1651 [==============================] - 42s 26ms/step - loss: 6.1419 - accuracy: 0.0617\n",
            "Epoch 8/50\n",
            "1651/1651 [==============================] - 45s 27ms/step - loss: 5.9584 - accuracy: 0.0694\n",
            "Epoch 9/50\n",
            "1651/1651 [==============================] - 42s 26ms/step - loss: 5.7678 - accuracy: 0.0753\n",
            "Epoch 10/50\n",
            "1651/1651 [==============================] - 41s 25ms/step - loss: 5.5835 - accuracy: 0.0840\n",
            "Epoch 11/50\n",
            "1651/1651 [==============================] - 41s 25ms/step - loss: 5.4058 - accuracy: 0.0939\n",
            "Epoch 12/50\n",
            "1651/1651 [==============================] - 41s 25ms/step - loss: 5.2223 - accuracy: 0.1045\n",
            "Epoch 13/50\n",
            "1651/1651 [==============================] - 41s 25ms/step - loss: 5.0491 - accuracy: 0.1159\n",
            "Epoch 14/50\n",
            "1651/1651 [==============================] - 41s 25ms/step - loss: 4.8773 - accuracy: 0.1307\n",
            "Epoch 15/50\n",
            "1651/1651 [==============================] - 40s 24ms/step - loss: 4.7075 - accuracy: 0.1465\n",
            "Epoch 16/50\n",
            "1651/1651 [==============================] - 42s 25ms/step - loss: 4.5429 - accuracy: 0.1617\n",
            "Epoch 17/50\n",
            "1651/1651 [==============================] - 41s 25ms/step - loss: 4.3799 - accuracy: 0.1804\n",
            "Epoch 18/50\n",
            "1651/1651 [==============================] - 41s 25ms/step - loss: 4.2193 - accuracy: 0.1980\n",
            "Epoch 19/50\n",
            "1651/1651 [==============================] - 41s 25ms/step - loss: 4.0576 - accuracy: 0.2202\n",
            "Epoch 20/50\n",
            "1651/1651 [==============================] - 42s 26ms/step - loss: 3.9079 - accuracy: 0.2386\n",
            "Epoch 21/50\n",
            "1651/1651 [==============================] - 41s 25ms/step - loss: 3.7561 - accuracy: 0.2605\n",
            "Epoch 22/50\n",
            "1651/1651 [==============================] - 43s 26ms/step - loss: 3.6073 - accuracy: 0.2839\n",
            "Epoch 23/50\n",
            "1651/1651 [==============================] - 43s 26ms/step - loss: 3.4618 - accuracy: 0.3054\n",
            "Epoch 24/50\n",
            "1651/1651 [==============================] - 42s 25ms/step - loss: 3.3230 - accuracy: 0.3276\n",
            "Epoch 25/50\n",
            "1651/1651 [==============================] - 42s 25ms/step - loss: 3.1829 - accuracy: 0.3527\n",
            "Epoch 26/50\n",
            "1651/1651 [==============================] - 42s 25ms/step - loss: 3.0522 - accuracy: 0.3763\n",
            "Epoch 27/50\n",
            "1651/1651 [==============================] - 41s 25ms/step - loss: 2.9246 - accuracy: 0.3988\n",
            "Epoch 28/50\n",
            "1651/1651 [==============================] - 41s 25ms/step - loss: 2.8034 - accuracy: 0.4209\n",
            "Epoch 29/50\n",
            "1651/1651 [==============================] - 41s 25ms/step - loss: 2.6861 - accuracy: 0.4447\n",
            "Epoch 30/50\n",
            "1651/1651 [==============================] - 40s 24ms/step - loss: 2.5726 - accuracy: 0.4641\n",
            "Epoch 31/50\n",
            "1651/1651 [==============================] - 40s 24ms/step - loss: 2.4641 - accuracy: 0.4839\n",
            "Epoch 32/50\n",
            "1651/1651 [==============================] - 40s 24ms/step - loss: 2.3620 - accuracy: 0.5019\n",
            "Epoch 33/50\n",
            "1651/1651 [==============================] - 42s 25ms/step - loss: 2.2620 - accuracy: 0.5228\n",
            "Epoch 34/50\n",
            "1651/1651 [==============================] - 42s 25ms/step - loss: 2.1737 - accuracy: 0.5420\n",
            "Epoch 35/50\n",
            "1651/1651 [==============================] - 41s 25ms/step - loss: 2.0859 - accuracy: 0.5586\n",
            "Epoch 36/50\n",
            "1651/1651 [==============================] - 41s 25ms/step - loss: 2.0038 - accuracy: 0.5741\n",
            "Epoch 37/50\n",
            "1651/1651 [==============================] - 42s 25ms/step - loss: 1.9286 - accuracy: 0.5893\n",
            "Epoch 38/50\n",
            "1651/1651 [==============================] - 43s 26ms/step - loss: 1.8556 - accuracy: 0.6027\n",
            "Epoch 39/50\n",
            "1651/1651 [==============================] - 43s 26ms/step - loss: 1.7795 - accuracy: 0.6191\n",
            "Epoch 40/50\n",
            "1651/1651 [==============================] - 43s 26ms/step - loss: 1.7218 - accuracy: 0.6287\n",
            "Epoch 41/50\n",
            "1651/1651 [==============================] - 42s 26ms/step - loss: 1.6589 - accuracy: 0.6425\n",
            "Epoch 42/50\n",
            "1651/1651 [==============================] - 43s 26ms/step - loss: 1.6038 - accuracy: 0.6543\n",
            "Epoch 43/50\n",
            "1651/1651 [==============================] - 42s 25ms/step - loss: 1.5470 - accuracy: 0.6646\n",
            "Epoch 44/50\n",
            "1651/1651 [==============================] - 43s 26ms/step - loss: 1.4967 - accuracy: 0.6730\n",
            "Epoch 45/50\n",
            "1651/1651 [==============================] - 43s 26ms/step - loss: 1.4476 - accuracy: 0.6853\n",
            "Epoch 46/50\n",
            "1651/1651 [==============================] - 44s 26ms/step - loss: 1.4041 - accuracy: 0.6939\n",
            "Epoch 47/50\n",
            "1651/1651 [==============================] - 42s 25ms/step - loss: 1.3624 - accuracy: 0.7016\n",
            "Epoch 48/50\n",
            "1651/1651 [==============================] - 43s 26ms/step - loss: 1.3245 - accuracy: 0.7083\n",
            "Epoch 49/50\n",
            "1651/1651 [==============================] - 43s 26ms/step - loss: 1.2798 - accuracy: 0.7169\n",
            "Epoch 50/50\n",
            "1651/1651 [==============================] - 43s 26ms/step - loss: 1.2458 - accuracy: 0.7248\n"
          ]
        }
      ]
    },
    {
      "cell_type": "code",
      "source": [
        "def buildPhrase(texts, str_len=30):\n",
        "    res = texts\n",
        "    data = tokenizer.texts_to_sequences([texts])[0]\n",
        "    for i in range(str_len):\n",
        "        #x = to_categorical(data[i: i + inp_words], num_classes=maxWordsCount)  # преобразуем в One-Hot-encoding\n",
        "        #inp = x.reshape(1, inp_words, maxWordsCount)\n",
        "\n",
        "        x = data[i: i + inp_words]\n",
        "        inp = np.expand_dims(x, axis=0)\n",
        "\n",
        "        pred = model.predict(inp)\n",
        "        indx = pred.argmax(axis=1)[0]\n",
        "        data.append(indx)\n",
        "\n",
        "        res += \" \" + tokenizer.index_word[indx]  # дописываем строку\n",
        "\n",
        "    return res"
      ],
      "metadata": {
        "id": "14wUlBNajNjT"
      },
      "execution_count": 17,
      "outputs": []
    },
    {
      "cell_type": "code",
      "source": [
        "res = buildPhrase(\"Баклажан в жопе\")\n",
        "print(res)"
      ],
      "metadata": {
        "colab": {
          "base_uri": "https://localhost:8080/"
        },
        "id": "U2RZ5IW4kg7U",
        "outputId": "aab3ed92-bdbf-432f-d958-cb6ed6779565"
      },
      "execution_count": 25,
      "outputs": [
        {
          "output_type": "stream",
          "name": "stdout",
          "text": [
            "1/1 [==============================] - 0s 24ms/step\n",
            "1/1 [==============================] - 0s 22ms/step\n",
            "1/1 [==============================] - 0s 21ms/step\n",
            "1/1 [==============================] - 0s 20ms/step\n",
            "1/1 [==============================] - 0s 21ms/step\n",
            "1/1 [==============================] - 0s 22ms/step\n",
            "1/1 [==============================] - 0s 23ms/step\n",
            "1/1 [==============================] - 0s 24ms/step\n",
            "1/1 [==============================] - 0s 27ms/step\n",
            "1/1 [==============================] - 0s 26ms/step\n",
            "1/1 [==============================] - 0s 21ms/step\n",
            "1/1 [==============================] - 0s 35ms/step\n",
            "1/1 [==============================] - 0s 33ms/step\n",
            "1/1 [==============================] - 0s 32ms/step\n",
            "1/1 [==============================] - 0s 32ms/step\n",
            "1/1 [==============================] - 0s 34ms/step\n",
            "1/1 [==============================] - 0s 32ms/step\n",
            "1/1 [==============================] - 0s 31ms/step\n",
            "1/1 [==============================] - 0s 31ms/step\n",
            "1/1 [==============================] - 0s 31ms/step\n",
            "1/1 [==============================] - 0s 32ms/step\n",
            "1/1 [==============================] - 0s 31ms/step\n",
            "1/1 [==============================] - 0s 31ms/step\n",
            "1/1 [==============================] - 0s 30ms/step\n",
            "1/1 [==============================] - 0s 33ms/step\n",
            "1/1 [==============================] - 0s 30ms/step\n",
            "1/1 [==============================] - 0s 29ms/step\n",
            "1/1 [==============================] - 0s 29ms/step\n",
            "1/1 [==============================] - 0s 32ms/step\n",
            "1/1 [==============================] - 0s 32ms/step\n",
            "Баклажан в жопе я руками в я маленький себя и спустя свой интернете но и конечно на и начал штаны она и ничего не так она там а как это начала бля тоже\n"
          ]
        }
      ]
    }
  ]
}